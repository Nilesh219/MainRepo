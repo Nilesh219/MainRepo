{
 "cells": [
  {
   "cell_type": "code",
   "execution_count": 13,
   "id": "7056d78c",
   "metadata": {},
   "outputs": [],
   "source": [
    "#define tokenized senences as trainin data\n",
    "tokenized_sentences = [['Hello', 'This', 'is', 'python', 'training', 'by', 'Nilesh'],\n",
    "                      ['Hello', 'This', 'is', 'Java', 'training', 'by', 'Nilesh'],\n",
    "                      ['Hello', 'This', 'is', 'Data Science', 'training', 'by', 'Unfold', 'Data', 'Science'],\n",
    "                      ['Hello', 'This', 'is', 'python', 'training', 'by', '']]"
   ]
  },
  {
   "cell_type": "code",
   "execution_count": 17,
   "id": "29e6c0d1",
   "metadata": {},
   "outputs": [],
   "source": [
    "# training word2vec model\n",
    "from gensim.models import Word2Vec\n",
    "import warnings\n",
    "warnings.filterwarnings('ignore')\n",
    "mymodel = Word2Vec(tokenized_sentences, min_count=1)"
   ]
  },
  {
   "cell_type": "code",
   "execution_count": 18,
   "id": "200b4d99",
   "metadata": {},
   "outputs": [
    {
     "name": "stdout",
     "output_type": "stream",
     "text": [
      "Word2Vec<vocab=13, vector_size=100, alpha=0.025>\n"
     ]
    }
   ],
   "source": [
    "# summarizing the Loaded model\n",
    "print(mymodel)"
   ]
  },
  {
   "cell_type": "code",
   "execution_count": 11,
   "id": "7c0080c8",
   "metadata": {},
   "outputs": [
    {
     "ename": "NameError",
     "evalue": "name 'word2vec_model' is not defined",
     "output_type": "error",
     "traceback": [
      "\u001b[1;31m---------------------------------------------------------------------------\u001b[0m",
      "\u001b[1;31mNameError\u001b[0m                                 Traceback (most recent call last)",
      "Cell \u001b[1;32mIn[11], line 2\u001b[0m\n\u001b[0;32m      1\u001b[0m \u001b[38;5;66;03m# Check if 'wv' attribute exists in the model\u001b[39;00m\n\u001b[1;32m----> 2\u001b[0m \u001b[38;5;28;01mif\u001b[39;00m \u001b[38;5;28mhasattr\u001b[39m(word2vec_model, \u001b[38;5;124m'\u001b[39m\u001b[38;5;124mwv\u001b[39m\u001b[38;5;124m'\u001b[39m):\n\u001b[0;32m      3\u001b[0m     \u001b[38;5;66;03m# Check if 'index_to_key' attribute exists in the 'wv' attribute\u001b[39;00m\n\u001b[0;32m      4\u001b[0m     \u001b[38;5;28;01mif\u001b[39;00m \u001b[38;5;28mhasattr\u001b[39m(word2vec_model\u001b[38;5;241m.\u001b[39mwv, \u001b[38;5;124m'\u001b[39m\u001b[38;5;124mindex_to_key\u001b[39m\u001b[38;5;124m'\u001b[39m):\n\u001b[0;32m      5\u001b[0m         \u001b[38;5;66;03m# Summarize vocabulary\u001b[39;00m\n\u001b[0;32m      6\u001b[0m         words \u001b[38;5;241m=\u001b[39m word2vec_model\u001b[38;5;241m.\u001b[39mwv\u001b[38;5;241m.\u001b[39mindex_to_key\n",
      "\u001b[1;31mNameError\u001b[0m: name 'word2vec_model' is not defined"
     ]
    }
   ],
   "source": [
    "# summarize vocabulary\n",
    "words = list(mymodel.wv.vocab)"
   ]
  },
  {
   "cell_type": "code",
   "execution_count": 5,
   "id": "6db6b5d3",
   "metadata": {},
   "outputs": [
    {
     "ename": "NameError",
     "evalue": "name 'words' is not defined",
     "output_type": "error",
     "traceback": [
      "\u001b[1;31m---------------------------------------------------------------------------\u001b[0m",
      "\u001b[1;31mNameError\u001b[0m                                 Traceback (most recent call last)",
      "Cell \u001b[1;32mIn[5], line 2\u001b[0m\n\u001b[0;32m      1\u001b[0m \u001b[38;5;66;03m# summarize vocabulary\u001b[39;00m\n\u001b[1;32m----> 2\u001b[0m \u001b[38;5;28mprint\u001b[39m(words)\n",
      "\u001b[1;31mNameError\u001b[0m: name 'words' is not defined"
     ]
    }
   ],
   "source": [
    "# summarize vocabulary\n",
    "print(words)"
   ]
  },
  {
   "cell_type": "code",
   "execution_count": 16,
   "id": "afc5d220",
   "metadata": {},
   "outputs": [
    {
     "ename": "TypeError",
     "evalue": "'Word2Vec' object is not subscriptable",
     "output_type": "error",
     "traceback": [
      "\u001b[1;31m---------------------------------------------------------------------------\u001b[0m",
      "\u001b[1;31mTypeError\u001b[0m                                 Traceback (most recent call last)",
      "Cell \u001b[1;32mIn[16], line 2\u001b[0m\n\u001b[0;32m      1\u001b[0m \u001b[38;5;66;03m# access word vector for one word \"training\"\u001b[39;00m\n\u001b[1;32m----> 2\u001b[0m \u001b[38;5;28mprint\u001b[39m(mymodel[\u001b[38;5;124m'\u001b[39m\u001b[38;5;124mtraining\u001b[39m\u001b[38;5;124m'\u001b[39m])\n",
      "\u001b[1;31mTypeError\u001b[0m: 'Word2Vec' object is not subscriptable"
     ]
    }
   ],
   "source": [
    "# access word vector for one word \"training\"\n",
    "print(mymodel['training'])"
   ]
  },
  {
   "cell_type": "code",
   "execution_count": null,
   "id": "40c7d2a8",
   "metadata": {},
   "outputs": [],
   "source": []
  }
 ],
 "metadata": {
  "kernelspec": {
   "display_name": "Python 3 (ipykernel)",
   "language": "python",
   "name": "python3"
  },
  "language_info": {
   "codemirror_mode": {
    "name": "ipython",
    "version": 3
   },
   "file_extension": ".py",
   "mimetype": "text/x-python",
   "name": "python",
   "nbconvert_exporter": "python",
   "pygments_lexer": "ipython3",
   "version": "3.11.5"
  }
 },
 "nbformat": 4,
 "nbformat_minor": 5
}
