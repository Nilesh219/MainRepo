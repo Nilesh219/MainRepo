{
 "cells": [
  {
   "cell_type": "code",
   "execution_count": 1,
   "id": "40ea591a",
   "metadata": {},
   "outputs": [],
   "source": [
    "# app.py\n",
    "\n",
    "from flask import Flask, render_template, request\n",
    "import pandas as pd\n",
    "import numpy as np\n",
    "from sklearn.feature_extraction.text import TfidfVectorizer\n",
    "from sklearn.metrics.pairwise import linear_kernel\n",
    "import pickle"
   ]
  },
  {
   "cell_type": "code",
   "execution_count": 2,
   "id": "6a69ba75",
   "metadata": {},
   "outputs": [],
   "source": [
    "app = Flask(__name__)"
   ]
  },
  {
   "cell_type": "code",
   "execution_count": 3,
   "id": "ee3e8f66",
   "metadata": {},
   "outputs": [],
   "source": [
    "# Load the model and vectorizer\n",
    "def load_model(file_path):\n",
    "    with open(file_path, 'rb') as pickle_file:\n",
    "        model_and_vectorizer = pickle.load(pickle_file)\n",
    "    return model_and_vectorizer\n",
    "\n",
    "loaded_model_and_vectorizer = load_model('collaborative_filter_model.pkl')\n",
    "loaded_tfidf = loaded_model_and_vectorizer['tfidf']\n",
    "loaded_cosine_sim = loaded_model_and_vectorizer['cosine_sim']"
   ]
  },
  {
   "cell_type": "code",
   "execution_count": 4,
   "id": "48a4ac25",
   "metadata": {},
   "outputs": [
    {
     "name": "stderr",
     "output_type": "stream",
     "text": [
      "C:\\Users\\User\\AppData\\Local\\Temp\\ipykernel_8008\\2765884372.py:2: DtypeWarning: Columns (15,16,17,18,19,20,21,22,23,24,25,26,27,28,29,30,31,32,33,34,35,36,37,38,39,40,41,42,43,44,45,46,47,48,49,50,51,52,53,54,55,56,57,58,59,60,61,62,63,64,65,66,67,68,69,70,71,72,73,74,75,76,77,78,79,80,81,82,83,84,85,86,87,88,89,90,91,92,93,94,95,96,97,98,99,100,101,102,103,104,105,106,107,108,109,110,111,112,113,114,115,116,117,118,119,120,121,122,123,124,125,126,127,128,129,130,131,132,133,134,135,136,137,138,139,140,141,142,143,144,145,146,147,148,149,150,151,152,153,154,155,156,157,158,159,160,161,162,163,164,165,166,167,168,169,170,171,172,173,174,175,176,177,178,179,180,181,182,183,184,185,186,187,188,189,190,191,192,193,194,195,196,197,198,199,200,201,202,203,204,205,206,207,208,209,210,211,212,213,214,215,216,217,218) have mixed types. Specify dtype option on import or set low_memory=False.\n",
      "  dataset = pd.read_csv(\"engineering_colleges.csv\")\n"
     ]
    }
   ],
   "source": [
    "# Load your dataset\n",
    "dataset = pd.read_csv(\"engineering_colleges.csv\")\n",
    "dataset[\"overview\"] = np.nan"
   ]
  },
  {
   "cell_type": "code",
   "execution_count": 5,
   "id": "2eda96e9",
   "metadata": {},
   "outputs": [
    {
     "name": "stderr",
     "output_type": "stream",
     "text": [
      "C:\\Users\\User\\AppData\\Local\\Temp\\ipykernel_8008\\3650125960.py:4: SettingWithCopyWarning: \n",
      "A value is trying to be set on a copy of a slice from a DataFrame\n",
      "\n",
      "See the caveats in the documentation: https://pandas.pydata.org/pandas-docs/stable/user_guide/indexing.html#returning-a-view-versus-a-copy\n",
      "  dataset['overview'][i] = temp\n"
     ]
    }
   ],
   "source": [
    "# Populate the 'overview' column\n",
    "for i in dataset.index:\n",
    "    temp = str(dataset['Campus Size'][i]) + str(dataset['City'][i]) + str(dataset['State'][i]) + str(dataset['Average Fees'][i])\n",
    "    dataset['overview'][i] = temp"
   ]
  },
  {
   "cell_type": "code",
   "execution_count": 6,
   "id": "2adef6fa",
   "metadata": {},
   "outputs": [],
   "source": [
    "# Initialize the TfidfVectorizer\n",
    "dataset['overview'] = dataset['overview'].fillna(\"\")\n",
    "tfidf_matrix = loaded_tfidf.transform(dataset['overview'])\n",
    "cosine_sim = loaded_cosine_sim"
   ]
  },
  {
   "cell_type": "code",
   "execution_count": 7,
   "id": "0b21c862",
   "metadata": {},
   "outputs": [],
   "source": [
    "# Function to get recommendations\n",
    "def get_recommendation(preferences):\n",
    "    ind = dataset.index[dataset['overview'] == preferences].tolist()[0]\n",
    "    sim_scores = list(enumerate(cosine_sim[ind]))\n",
    "    sim_scores = sorted(sim_scores, key=lambda x: x[1], reverse=True)\n",
    "    sim_scores = sim_scores[1:6]\n",
    "\n",
    "    sim_index = [i[0] for i in sim_scores]\n",
    "    recommendations = dataset[\"College Name\"].iloc[sim_index].tolist()\n",
    "    return recommendations"
   ]
  },
  {
   "cell_type": "code",
   "execution_count": 8,
   "id": "0d5b0550",
   "metadata": {},
   "outputs": [],
   "source": [
    "# Define routes\n",
    "@app.route('/')\n",
    "def index():\n",
    "    return render_template('index.html')"
   ]
  },
  {
   "cell_type": "code",
   "execution_count": 9,
   "id": "afd8e585",
   "metadata": {},
   "outputs": [],
   "source": [
    "@app.route('/recommend', methods=['POST'])\n",
    "def recommend():\n",
    "    preferences = request.form['preferences']\n",
    "    recommendations = get_recommendation(preferences)\n",
    "    return render_template('recommendations.html', recommendations=recommendations)\n"
   ]
  },
  {
   "cell_type": "markdown",
   "id": "2305facc",
   "metadata": {},
   "source": [
    "#### if __name__ == '__main__':5\n",
    "    app.run(debug=True)"
   ]
  },
  {
   "cell_type": "code",
   "execution_count": 10,
   "id": "38e3c581",
   "metadata": {},
   "outputs": [
    {
     "ename": "NameError",
     "evalue": "name 'name' is not defined",
     "output_type": "error",
     "traceback": [
      "\u001b[1;31m---------------------------------------------------------------------------\u001b[0m",
      "\u001b[1;31mNameError\u001b[0m                                 Traceback (most recent call last)",
      "Cell \u001b[1;32mIn[10], line 1\u001b[0m\n\u001b[1;32m----> 1\u001b[0m \u001b[38;5;28;01mif\u001b[39;00m name \u001b[38;5;241m==\u001b[39m \u001b[38;5;124m'\u001b[39m\u001b[38;5;124mmain\u001b[39m\u001b[38;5;124m'\u001b[39m:\n\u001b[0;32m      2\u001b[0m     app\u001b[38;5;241m.\u001b[39mrun(debug\u001b[38;5;241m=\u001b[39m\u001b[38;5;28;01mTrue\u001b[39;00m)\n",
      "\u001b[1;31mNameError\u001b[0m: name 'name' is not defined"
     ]
    }
   ],
   "source": [
    "if __name__ == 'main':\n",
    "    app.run(debug=True)"
   ]
  },
  {
   "cell_type": "code",
   "execution_count": null,
   "id": "9654ad21",
   "metadata": {},
   "outputs": [],
   "source": []
  },
  {
   "cell_type": "code",
   "execution_count": null,
   "id": "b0fee26f",
   "metadata": {},
   "outputs": [],
   "source": []
  }
 ],
 "metadata": {
  "kernelspec": {
   "display_name": "Python 3 (ipykernel)",
   "language": "python",
   "name": "python3"
  },
  "language_info": {
   "codemirror_mode": {
    "name": "ipython",
    "version": 3
   },
   "file_extension": ".py",
   "mimetype": "text/x-python",
   "name": "python",
   "nbconvert_exporter": "python",
   "pygments_lexer": "ipython3",
   "version": "3.11.5"
  }
 },
 "nbformat": 4,
 "nbformat_minor": 5
}
