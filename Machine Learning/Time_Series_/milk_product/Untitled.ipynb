{
 "cells": [
  {
   "cell_type": "markdown",
   "id": "2e0542f0-e9fb-4a06-b46e-3a567fb27f98",
   "metadata": {
    "tags": []
   },
   "source": [
    "Time Series Analysis"
   ]
  },
  {
   "cell_type": "code",
   "execution_count": null,
   "id": "a3ee2ec6-5890-44f3-9a11-324d120d9816",
   "metadata": {},
   "outputs": [],
   "source": [
    "# Specify the period for seasonal decomposition\n",
    "seasonal_period = 12  # Monthly seasonality\n",
    "\n",
    "# Assuming df_grouped is your DataFrame with the 'quantity' column and 'date' as the index\n",
    "# Split the data into training and testing sets\n",
    "train_size = int(len(df_grouped) * 0.8)  # 80% for training\n",
    "train, test = df_grouped.iloc[:train_size], df_grouped.iloc[train_size:]\n",
    "\n",
    "# Seasonal decomposition using seasonal_decompose\n",
    "result = seasonal_decompose(train['quantity'], model='additive', period=seasonal_period)\n",
    "\n",
    "# Plot ACF and PACF to determine SARIMA parameters\n",
    "plt.figure(figsize=(14, 8))\n",
    "\n",
    "plt.subplot(2, 2, 1)\n",
    "plot_acf(result.resid.dropna(), ax=plt.gca(), lags=40)\n",
    "plt.title('ACF of Residuals')\n",
    "\n",
    "plt.subplot(2, 2, 2)\n",
    "plot_pacf(result.resid.dropna(), ax=plt.gca(), lags=40)\n",
    "plt.title('PACF of Residuals')\n",
    "\n",
    "# Fit a SARIMA model on the training set\n",
    "order = (1, 1, 1)  # Replace with appropriate values based on ACF and PACF analysis\n",
    "seasonal_order = (1, 1, 1, seasonal_period)\n",
    "\n",
    "model = SARIMAX(train['quantity'], order=order, seasonal_order=seasonal_order, enforce_stationarity=False, enforce_invertibility=False)\n",
    "results = model.fit()\n"
   ]
  },
  {
   "cell_type": "code",
   "execution_count": null,
   "id": "2ee62f2a-dc16-4e8a-a4f7-b6e46f3ca847",
   "metadata": {},
   "outputs": [],
   "source": [
    "# Forecast future values on the test set\n",
    "forecast_steps = len(test)\n",
    "forecast = results.get_forecast(steps=forecast_steps)\n",
    "\n",
    "# Obtain the forecasted values for the test set\n",
    "forecast_values_test = forecast.predicted_mean\n",
    "\n",
    "# Print the forecasted values for the test set\n",
    "print(\"Forecasted values for the test set:\")\n",
    "print(forecast_values_test)"
   ]
  },
  {
   "cell_type": "code",
   "execution_count": null,
   "id": "0822c758-5ade-437b-be70-9a3e873b66af",
   "metadata": {},
   "outputs": [],
   "source": [
    "# Plot the historical values and forecasted values\n",
    "plt.figure(figsize=(14, 6))\n",
    "plt.plot(train.index, train['quantity'], label='Historical Data')\n",
    "plt.plot(test.index, forecast_values_test, color='red', label='Forecasted Values')\n",
    "plt.title('Historical and Forecasted Values')\n",
    "plt.xlabel('Date')\n",
    "plt.ylabel('Quantity')\n",
    "plt.legend()\n",
    "plt.show()"
   ]
  },
  {
   "cell_type": "code",
   "execution_count": null,
   "id": "98e1ec01-7973-402c-9b31-219dbecae3d6",
   "metadata": {},
   "outputs": [],
   "source": [
    "# Plot the training set and test set\n",
    "plt.figure(figsize=(14, 6))\n",
    "plt.plot(train.index, train['quantity'], label='Training Set')\n",
    "plt.plot(test.index, test['quantity'], label='Test Set')\n",
    "plt.title('SARIMA Train-Test Split')\n",
    "plt.xlabel('Date')\n",
    "plt.ylabel('Quantity')\n",
    "plt.legend()\n",
    "plt.show()"
   ]
  }
 ],
 "metadata": {
  "kernelspec": {
   "display_name": "Python 3 (ipykernel)",
   "language": "python",
   "name": "python3"
  },
  "language_info": {
   "codemirror_mode": {
    "name": "ipython",
    "version": 3
   },
   "file_extension": ".py",
   "mimetype": "text/x-python",
   "name": "python",
   "nbconvert_exporter": "python",
   "pygments_lexer": "ipython3",
   "version": "3.11.4"
  }
 },
 "nbformat": 4,
 "nbformat_minor": 5
}
