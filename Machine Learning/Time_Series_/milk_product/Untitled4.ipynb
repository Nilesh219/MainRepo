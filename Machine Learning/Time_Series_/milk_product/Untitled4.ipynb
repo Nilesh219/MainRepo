{
 "cells": [
  {
   "cell_type": "code",
   "execution_count": null,
   "id": "863db919-5e65-4c14-b0c5-4d2ac95e6f77",
   "metadata": {},
   "outputs": [],
   "source": [
    "\n",
    "\n",
    "# Split data into training and testing sets \n",
    "train_size = int(len(new_df)*0.8) #80% of train data\n",
    "train, test = new_df.iloc[:train_size], new_df.iloc[train_size:]\n",
    "import warnings\n",
    "warnings.filterwarnings('ignore')\n",
    "# Fit ExpoentialSmoothing model\n",
    "model = ExponentialSmoothing(train['quantity'], trend='mul', seasonal='mul', seasonal_periods=28)\n",
    "model_fit = model.fit()\n",
    "# Make predictions on the testing set\n",
    "predication = model_fit.forecast(len(test))\n",
    "# Evaluate model performance\n",
    "mse = mean_squared_error(test['quantity'], predication)\n",
    "print('Mean_Squared_Error:', mse)\n",
    "# Forecast future values\n",
    "future_forecast = model_fit.forecast(steps=3*30)\n",
    "print('Future Forecast:\\n', future_forecast)"
   ]
  },
  {
   "cell_type": "code",
   "execution_count": null,
   "id": "15392b52-5899-46bd-bd89-af97a8842409",
   "metadata": {},
   "outputs": [],
   "source": [
    "from statsmodels.tsa.seasonal import seasonal_decompose\n",
    "from sklearn.model_selection import TimeSeriesSplit\n",
    "\n",
    "model = ExponentialSmoothing(new_df['quantity'], trend='mul', seasonal='mul', seasonal_periods=150)\n",
    "model_fit = model.fit()\n",
    "# Check the data types of each column\n",
    "print(\"\\nData types:\")\n",
    "print(new_df.dtypes)\n",
    "\n",
    "forecast = model_fit.forecast(steps=3*30)  # Forecasting for the next 3 months\n",
    "# Step 4: Print or use the forecast\n",
    "print(\"Forecasted quantities for the next 3 months:\")\n",
    "print(forecast)\n",
    "\n",
    "mse = mean_squared_error(new_df['quantity'], forecast)\n",
    "print('Mean_Squared_Error:', mse)\n",
    "# Step 5: Plot the original data and the forecast\n",
    "plt.figure(figsize=(10, 6))\n",
    "plt.plot(new_df.index, new_df['quantity'], label='Original', color='blue')\n",
    "plt.plot(forecast.index, forecast, label='Forecast', color='red')\n",
    "plt.title('Holt-Winters Forecasting')\n",
    "plt.xlabel('Date')\n",
    "plt.ylabel('Quantity')\n",
    "plt.legend()\n",
    "plt.show()\n"
   ]
  }
 ],
 "metadata": {
  "kernelspec": {
   "display_name": "Python 3 (ipykernel)",
   "language": "python",
   "name": "python3"
  },
  "language_info": {
   "codemirror_mode": {
    "name": "ipython",
    "version": 3
   },
   "file_extension": ".py",
   "mimetype": "text/x-python",
   "name": "python",
   "nbconvert_exporter": "python",
   "pygments_lexer": "ipython3",
   "version": "3.11.4"
  }
 },
 "nbformat": 4,
 "nbformat_minor": 5
}
