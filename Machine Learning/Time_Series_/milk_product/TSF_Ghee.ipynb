{
 "cells": [
  {
   "cell_type": "code",
   "execution_count": 1,
   "id": "da9d770f-672c-4dd2-89e3-5b509fc803a2",
   "metadata": {},
   "outputs": [],
   "source": [
    "import pandas as pd\n",
    "import matplotlib.pyplot as plt\n",
    "%matplotlib inline\n",
    "from sklearn.model_selection import TimeSeriesSplit\n",
    "from sklearn.metrics import mean_absolute_error, mean_squared_error\n",
    "from statsmodels.tsa.seasonal import seasonal_decompose\n",
    "import numpy as np\n",
    "import seaborn as sns"
   ]
  },
  {
   "cell_type": "code",
   "execution_count": 2,
   "id": "745cdf24-e17c-471f-8544-06917ca7ab59",
   "metadata": {},
   "outputs": [],
   "source": [
    "import warnings\n",
    "warnings.filterwarnings('ignore')"
   ]
  },
  {
   "cell_type": "code",
   "execution_count": 3,
   "id": "1bc2704c-2633-42ea-b4a6-07ace5b40378",
   "metadata": {},
   "outputs": [],
   "source": [
    "df = pd.read_csv('Product_data.csv')"
   ]
  },
  {
   "cell_type": "code",
   "execution_count": 4,
   "id": "17ef4356-e1ec-41cb-822b-a7848b98ea91",
   "metadata": {},
   "outputs": [
    {
     "name": "stdout",
     "output_type": "stream",
     "text": [
      "     everyday productid                 productname  quantity\n",
      "0  2023-08-16   D_10006                CURD - 200 G      60.0\n",
      "1  2023-08-16   D_10029  STANDARDISED MILK - 500 ml      48.0\n",
      "2  2023-08-16   D_10006                CURD - 200 G      60.0\n",
      "3  2023-08-16   D_10017  DOUBLE TONED MILK - 500 ml      72.0\n",
      "4  2023-08-16   D_10033         TONED MILK - 500 ml      24.0\n"
     ]
    }
   ],
   "source": [
    "print(df.head())"
   ]
  },
  {
   "cell_type": "code",
   "execution_count": 5,
   "id": "d5c3ae4a-3787-47a3-b7b1-bc9d26340783",
   "metadata": {},
   "outputs": [
    {
     "data": {
      "text/plain": [
       "(2516944, 4)"
      ]
     },
     "execution_count": 5,
     "metadata": {},
     "output_type": "execute_result"
    }
   ],
   "source": [
    "df.shape"
   ]
  },
  {
   "cell_type": "code",
   "execution_count": 6,
   "id": "44dcf488-1d70-48ea-abf8-d74ccd4264e8",
   "metadata": {},
   "outputs": [],
   "source": [
    "# Filter for product ID D_10006\n",
    "df_filtered = df[df['productid'] == 'D_30022']\n",
    "\n",
    "# Group by date and sum quantity\n",
    "df_grouped = df_filtered.groupby('everyday')['quantity'].sum().reset_index()\n",
    "\n",
    "#everyday datatype changed into datetime\n",
    "df_grouped['everyday'] = pd.to_datetime(df_grouped['everyday'])"
   ]
  },
  {
   "cell_type": "code",
   "execution_count": 7,
   "id": "4f84263f-fe39-45ed-93c0-8810222597eb",
   "metadata": {},
   "outputs": [],
   "source": [
    "# Set 'date' column as the index\n",
    "df_grouped.set_index('everyday', inplace=True)"
   ]
  },
  {
   "cell_type": "code",
   "execution_count": 8,
   "id": "da4cb2fd-89d4-4847-9fc5-35503b1a5b4e",
   "metadata": {},
   "outputs": [
    {
     "data": {
      "text/html": [
       "<div>\n",
       "<style scoped>\n",
       "    .dataframe tbody tr th:only-of-type {\n",
       "        vertical-align: middle;\n",
       "    }\n",
       "\n",
       "    .dataframe tbody tr th {\n",
       "        vertical-align: top;\n",
       "    }\n",
       "\n",
       "    .dataframe thead th {\n",
       "        text-align: right;\n",
       "    }\n",
       "</style>\n",
       "<table border=\"1\" class=\"dataframe\">\n",
       "  <thead>\n",
       "    <tr style=\"text-align: right;\">\n",
       "      <th></th>\n",
       "      <th>everyday</th>\n",
       "      <th>productid</th>\n",
       "      <th>productname</th>\n",
       "      <th>quantity</th>\n",
       "    </tr>\n",
       "  </thead>\n",
       "  <tbody>\n",
       "    <tr>\n",
       "      <th>266191</th>\n",
       "      <td>2022-10-24</td>\n",
       "      <td>D_30022</td>\n",
       "      <td>PURE COW GHEE PET JAR - 100 ml</td>\n",
       "      <td>10.0</td>\n",
       "    </tr>\n",
       "  </tbody>\n",
       "</table>\n",
       "</div>"
      ],
      "text/plain": [
       "          everyday productid                     productname  quantity\n",
       "266191  2022-10-24   D_30022  PURE COW GHEE PET JAR - 100 ml      10.0"
      ]
     },
     "execution_count": 8,
     "metadata": {},
     "output_type": "execute_result"
    }
   ],
   "source": [
    "df_filtered.head()"
   ]
  },
  {
   "cell_type": "code",
   "execution_count": 9,
   "id": "fac8f70f-0f77-4726-9087-82f9f75c2dda",
   "metadata": {},
   "outputs": [
    {
     "name": "stdout",
     "output_type": "stream",
     "text": [
      "            quantity\n",
      "everyday            \n",
      "2022-10-24      10.0\n"
     ]
    }
   ],
   "source": [
    "print(df_grouped)"
   ]
  },
  {
   "cell_type": "code",
   "execution_count": 10,
   "id": "b2d2d034-a69c-4ceb-8a97-afc8f6695069",
   "metadata": {},
   "outputs": [
    {
     "data": {
      "text/plain": [
       "(1, 1)"
      ]
     },
     "execution_count": 10,
     "metadata": {},
     "output_type": "execute_result"
    }
   ],
   "source": [
    "df_grouped.shape"
   ]
  },
  {
   "cell_type": "code",
   "execution_count": 11,
   "id": "ad680b56-7c2b-46cd-b96a-625a7b89dcc6",
   "metadata": {},
   "outputs": [
    {
     "data": {
      "image/png": "[encoded data removed]",
      "text/plain": [
       "<Figure size 1200x600 with 1 Axes>"
      ]
     },
     "metadata": {},
     "output_type": "display_data"
    }
   ],
   "source": [
    "# Plot the time series data\n",
    "plt.figure(figsize=(12, 6))\n",
    "plt.plot(df_grouped['quantity'])\n",
    "plt.title('Time Series Data')\n",
    "plt.xlabel('Date')\n",
    "plt.ylabel('Value')\n",
    "plt.show()"
   ]
  },
  {
   "cell_type": "code",
   "execution_count": null,
   "id": "054eaf7d-fbb5-4107-bff6-bb1b3426581f",
   "metadata": {},
   "outputs": [],
   "source": []
  }
 ],
 "metadata": {
  "kernelspec": {
   "display_name": "Python 3 (ipykernel)",
   "language": "python",
   "name": "python3"
  },
  "language_info": {
   "codemirror_mode": {
    "name": "ipython",
    "version": 3
   },
   "file_extension": ".py",
   "mimetype": "text/x-python",
   "name": "python",
   "nbconvert_exporter": "python",
   "pygments_lexer": "ipython3",
   "version": "3.11.4"
  }
 },
 "nbformat": 4,
 "nbformat_minor": 5
}
