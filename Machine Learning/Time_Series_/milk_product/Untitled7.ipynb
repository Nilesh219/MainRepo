{
 "cells": [
  {
   "cell_type": "code",
   "execution_count": null,
   "id": "25e79dd3-b4e9-4426-ba69-1bd5a4506dbc",
   "metadata": {},
   "outputs": [],
   "source": [
    "m = Prophet()\n",
    "new_df.columns = ['ds','y']\n",
    "\n",
    "model = m.fit(new_df)\n",
    "\n",
    "future = m.make_future_dataframe(periods=90, freq='D')\n",
    "forecast = m.predict(future)\n",
    "forecast.tail()\n",
    "\n",
    "forecast_values.head()\n",
    "\n",
    "from prophet.plot import plot_plotly, plot_components_plotly\n",
    "import plotly.graph_objs as go\n",
    "\n",
    "from prophet.plot import plot_plotly, plot_components_plotly\n",
    "\n",
    "plot_plotly(m, forecast)\n",
    "\n",
    "\n",
    "plot_components_plotly(m, forecast)\n",
    "\n",
    "\n",
    "forecast_dates = forecast['ds']  # Extract the forecast dates\n",
    "forecast_values = forecast['yhat']  # Extract the forecasted values\n",
    "\n",
    "# Concatenate new_df with forecast_values as a new column\n",
    "new_df_forecast = pd.concat([new_df, forecast_values], axis=1)\n",
    "\n",
    "\n",
    "# Rename the forecast_values column if needed\n",
    "new_df_forecast.rename(columns={'yhat':'forecast_quantity'}, inplace=True)"
   ]
  }
 ],
 "metadata": {
  "kernelspec": {
   "display_name": "Python 3 (ipykernel)",
   "language": "python",
   "name": "python3"
  },
  "language_info": {
   "codemirror_mode": {
    "name": "ipython",
    "version": 3
   },
   "file_extension": ".py",
   "mimetype": "text/x-python",
   "name": "python",
   "nbconvert_exporter": "python",
   "pygments_lexer": "ipython3",
   "version": "3.11.4"
  }
 },
 "nbformat": 4,
 "nbformat_minor": 5
}
