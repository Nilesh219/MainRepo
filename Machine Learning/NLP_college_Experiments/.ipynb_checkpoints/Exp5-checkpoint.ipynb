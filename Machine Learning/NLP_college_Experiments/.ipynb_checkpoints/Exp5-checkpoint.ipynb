{
 "cells": [
  {
   "cell_type": "markdown",
   "id": "03139ea1-b1a1-4361-94f9-11c3d5ce670f",
   "metadata": {},
   "source": [
    "# Implement Ngram model to predict the next word in the sentence"
   ]
  },
  {
   "cell_type": "markdown",
   "id": "47b19336-67b3-4eff-9588-e9b8f2976468",
   "metadata": {},
   "source": [
    "### Experiment 5"
   ]
  },
  {
   "cell_type": "code",
   "execution_count": 37,
   "id": "256288a5-5c43-4180-b9f0-2131e9874dda",
   "metadata": {},
   "outputs": [
    {
     "name": "stdout",
     "output_type": "stream",
     "text": [
      "Next word predicted by bigram model: with\n",
      "Next word predicted by trigram model: None\n"
     ]
    }
   ],
   "source": [
    "# import nltk\n",
    "# from nltk import bigrams, trigrams\n",
    "# from nltk.tokenize import word_tokenize\n",
    "# from collections import defaultdict\n",
    "\n",
    "# # Sample text\n",
    "# text = \"I love coding with Python and machine learning.\"\n",
    "\n",
    "# # Tokenize the text\n",
    "# tokens = nltk.word_tokenize(text)\n",
    "\n",
    "# # Create bigrams and trigrams\n",
    "# bigram_model = defaultdict(lambda: defaultdict(lambda: 0))\n",
    "# trigram_model = defaultdict(lambda: defaultdict(lambda: 0))\n",
    "\n",
    "# for w1, w2, w3 in trigrams(tokens, pad_right=True, pad_left=True):\n",
    "#     bigram_model[(w1, w2)][w3] += 1\n",
    "#     trigram_model[(w1, w2)][w3] += 1\n",
    "\n",
    "# # Function to predict the next word based on the N-gram model\n",
    "# def predict_next_word(model, context):\n",
    "#     context = tuple(context)\n",
    "#     next_word_candidates = model.get(context, {})\n",
    "#     if next_word_candidates:\n",
    "#         predicted_word = max(next_word_candidates, key=next_word_candidates.get)\n",
    "#         return predicted_word\n",
    "#     else:\n",
    "#         return None\n",
    "\n",
    "# # Test the model by predicting the next word\n",
    "# context = [\"love\", \"coding\"]\n",
    "# predicted_word = predict_next_word(bigram_model, context)\n",
    "# print(\"Next word predicted by bigram model:\", predicted_word)\n",
    "\n",
    "# context = [\"love\", \"coding\", \"with\"]\n",
    "# predicted_word = predict_next_word(trigram_model, context)\n",
    "# print(\"Next word predicted by trigram model:\", predicted_word)\n"
   ]
  },
  {
   "cell_type": "code",
   "execution_count": 20,
   "id": "efa99598-36d0-4273-8a09-34cd62bf9fb2",
   "metadata": {},
   "outputs": [],
   "source": [
    "from nltk.tokenize import word_tokenize\n",
    "from nltk.util import ngrams\n",
    "import random\n",
    "from collections import defaultdict, Counter"
   ]
  },
  {
   "cell_type": "code",
   "execution_count": 24,
   "id": "106d460e-b37b-4e1c-9242-23ad39a565a2",
   "metadata": {},
   "outputs": [],
   "source": [
    "# Sample text for demonstration\n",
    "text = \"This is a sample text for building n-grams. N-grams are used in various natural language processing applications.\"\n"
   ]
  },
  {
   "cell_type": "code",
   "execution_count": 31,
   "id": "64837f89-64ac-42f5-a48f-4c06f1ffd24b",
   "metadata": {},
   "outputs": [],
   "source": [
    "# Tokenizing the text into words\n",
    "tokens = word_tokenize(text.lower())  # Convert text to lowercase for consistency\n"
   ]
  },
  {
   "cell_type": "code",
   "execution_count": 32,
   "id": "a5b333f5-02ff-4b8d-a83c-7b9416d16595",
   "metadata": {},
   "outputs": [],
   "source": [
    "# Function to generate n-grams\n",
    "def generate_ngrams(tokens, n):\n",
    "    return list(ngrams(tokens, n))\n"
   ]
  },
  {
   "cell_type": "code",
   "execution_count": 33,
   "id": "ff3561e6-4f68-4212-b04c-9bc4a839489a",
   "metadata": {},
   "outputs": [],
   "source": [
    "# Define the value of n for n-grams\n",
    "n = 3\n",
    "\n",
    "# Generate n-grams\n",
    "n_grams = generate_ngrams(tokens, n)\n"
   ]
  },
  {
   "cell_type": "code",
   "execution_count": 34,
   "id": "9b3f4675-37e3-434f-a751-d240c5b2584f",
   "metadata": {},
   "outputs": [],
   "source": [
    "# Create a dictionary to store n-grams and their frequencies\n",
    "# Create a dictionary to store n-grams and their frequencies\n",
    "n_gram_freq = defaultdict(Counter)\n",
    "for gram in n_grams:\n",
    "    prefix = ' '.join(gram[:-1])\n",
    "    n_gram_freq[prefix][gram[-1]] += 1\n"
   ]
  },
  {
   "cell_type": "code",
   "execution_count": 35,
   "id": "cf1a3894-3869-444d-afa8-e93de3ffe4f6",
   "metadata": {},
   "outputs": [],
   "source": [
    "# Function to predict the next word given a prefix\n",
    "def predict_next_word(prefix):\n",
    "    if prefix in n_gram_freq:\n",
    "        possible_next_words = list(n_gram_freq[prefix].keys())\n",
    "        next_word_freqs = list(n_gram_freq[prefix].values())\n",
    "        # Normalize frequencies to get probabilities\n",
    "        probabilities = [freq / sum(next_word_freqs) for freq in next_word_freqs]\n",
    "        # Randomly choose the next word based on probabilities\n",
    "        next_word = random.choices(possible_next_words, weights=probabilities)[0]\n",
    "        return next_word\n",
    "    else:\n",
    "        return None\n"
   ]
  },
  {
   "cell_type": "code",
   "execution_count": 36,
   "id": "45b11af7-dc76-4074-adfb-8b38228fa1b9",
   "metadata": {},
   "outputs": [
    {
     "name": "stdout",
     "output_type": "stream",
     "text": [
      "Given the prefix 'how are ', the predicted next word is: 'None'\n"
     ]
    }
   ],
   "source": [
    "# Example usage: predict the next word given a prefix\n",
    "prefix = 'how are '\n",
    "\n",
    "next_word = predict_next_word(prefix)\n",
    "print(\"Given the prefix '{}', the predicted next word is: '{}'\".format(prefix, next_word))"
   ]
  },
  {
   "cell_type": "code",
   "execution_count": null,
   "id": "33ec8972-0ab0-4af1-85e7-bbae3c1bd0db",
   "metadata": {},
   "outputs": [],
   "source": []
  }
 ],
 "metadata": {
  "kernelspec": {
   "display_name": "Python 3 (ipykernel)",
   "language": "python",
   "name": "python3"
  },
  "language_info": {
   "codemirror_mode": {
    "name": "ipython",
    "version": 3
   },
   "file_extension": ".py",
   "mimetype": "text/x-python",
   "name": "python",
   "nbconvert_exporter": "python",
   "pygments_lexer": "ipython3",
   "version": "3.11.4"
  }
 },
 "nbformat": 4,
 "nbformat_minor": 5
}
