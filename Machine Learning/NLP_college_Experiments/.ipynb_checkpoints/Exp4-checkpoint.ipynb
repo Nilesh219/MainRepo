{
 "cells": [
  {
   "cell_type": "markdown",
   "id": "e02aaefb-e90e-4ce3-a800-4a00d592dfba",
   "metadata": {},
   "source": [
    "# Write a python program to build N-grams from the text "
   ]
  },
  {
   "cell_type": "markdown",
   "id": "8d9f661e-22c6-4a97-8985-9db9c2ae3c51",
   "metadata": {},
   "source": [
    "### Experiment 2"
   ]
  },
  {
   "cell_type": "code",
   "execution_count": null,
   "id": "078642f3-9cbc-4abe-93d8-24f24d200771",
   "metadata": {},
   "outputs": [],
   "source": [
    "# N-grams\n",
    "\n",
    "# N-grams are contiguous sequences of N items (or tokens) from a given text, where an item can be a word, character, \n",
    "# or other unit depending on the applicationN-grams are widely used in natural language processing (NLP) and computational linguistics \n",
    "# for various tasks such as language modeling, text generation, and feature extraction.\n",
    "\n",
    "\n",
    "# Here are some common types of N-grams:\n",
    "\n",
    "# 1.Unigrams (N=1): A single token, usually a word.\n",
    "# Example: \"apple\", \"banana\", \"orange\"\n",
    "\n",
    "# 2.Bigrams (N=2): Contiguous pairs of tokens.\n",
    "# Example: \"the cat\", \"cat is\", \"is sleeping\"\n",
    "\n",
    "# 3.Trigrams (N=3): Contiguous sequences of three tokens.\n",
    "# Example: \"I love coding\", \"love coding with\", \"coding with Python\"\n",
    "\n",
    "# N-grams with larger N: These are sequences of N tokens, where N can be any positive integer greater than 1.\n"
   ]
  },
  {
   "cell_type": "code",
   "execution_count": null,
   "id": "3ad53e7a-9a26-43ff-87f1-d1b72ede9ab8",
   "metadata": {},
   "outputs": [],
   "source": [
    "# N-grams capture local linguistic context and can be useful for tasks such as:\n",
    "\n",
    "# Language modeling: Predicting the next word in a sentence.\n",
    "# Text classification: Extracting features from text data.\n",
    "# Machine translation: Capturing phrase-level information."
   ]
  },
  {
   "cell_type": "code",
   "execution_count": 2,
   "id": "1f5e3d43-a81d-4e35-8d79-a46aa98f8520",
   "metadata": {},
   "outputs": [],
   "source": [
    "from nltk.tokenize import word_tokenize\n",
    "from nltk.util import ngrams"
   ]
  },
  {
   "cell_type": "code",
   "execution_count": 3,
   "id": "afa9134b-2f75-413e-bbca-dc1628127e9e",
   "metadata": {},
   "outputs": [],
   "source": [
    "# Sample text for demonstration\n",
    "text = \"This is a sample text for building n-grams.\"\n"
   ]
  },
  {
   "cell_type": "code",
   "execution_count": 4,
   "id": "14e8091c-b17c-4420-897f-344be89faa17",
   "metadata": {},
   "outputs": [],
   "source": [
    "# Tokenizing the text into words\n",
    "tokens = word_tokenize(text.lower())"
   ]
  },
  {
   "cell_type": "code",
   "execution_count": 13,
   "id": "4f34bb0e-01a4-4e18-b8c8-9d8e163b5fad",
   "metadata": {},
   "outputs": [],
   "source": [
    "# Function to generate n-grams\n",
    "def generate_ngrams(tokens, n):\n",
    "    n_grams = ngrams(tokens, n)\n",
    "    return [' '.join(gram) for gram in n_grams]\n"
   ]
  },
  {
   "cell_type": "code",
   "execution_count": 14,
   "id": "c340184d-e2d8-48e5-ac9c-a0fd2ed9a593",
   "metadata": {},
   "outputs": [
    {
     "name": "stdout",
     "output_type": "stream",
     "text": [
      "3-grams: ['this is a', 'is a sample', 'a sample text', 'sample text for', 'text for building', 'for building n-grams', 'building n-grams .']\n"
     ]
    }
   ],
   "source": [
    "# Define the value of n for n-grams\n",
    "n = 3\n",
    "\n",
    "# Generate n-grams\n",
    "n_grams = generate_ngrams(tokens, n)\n",
    "print(f\"{n}-grams:\", n_grams)\n"
   ]
  },
  {
   "cell_type": "code",
   "execution_count": null,
   "id": "57d9d266-26e4-417e-9c37-1c056b63c0f4",
   "metadata": {},
   "outputs": [],
   "source": []
  }
 ],
 "metadata": {
  "kernelspec": {
   "display_name": "Python 3 (ipykernel)",
   "language": "python",
   "name": "python3"
  },
  "language_info": {
   "codemirror_mode": {
    "name": "ipython",
    "version": 3
   },
   "file_extension": ".py",
   "mimetype": "text/x-python",
   "name": "python",
   "nbconvert_exporter": "python",
   "pygments_lexer": "ipython3",
   "version": "3.11.4"
  }
 },
 "nbformat": 4,
 "nbformat_minor": 5
}
