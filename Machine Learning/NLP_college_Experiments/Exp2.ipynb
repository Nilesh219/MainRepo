{
 "cells": [
  {
   "cell_type": "markdown",
   "id": "c2df473e-dbf0-458b-8910-daecde063960",
   "metadata": {},
   "source": [
    "# Demonstration of stemming and lemmatization"
   ]
  },
  {
   "cell_type": "markdown",
   "id": "401a87f2-ad9c-4430-a711-ae4edd671820",
   "metadata": {},
   "source": [
    "### Experiment 2"
   ]
  },
  {
   "cell_type": "markdown",
   "id": "c1c7ea99-562d-4104-8de3-8ca229557bcf",
   "metadata": {},
   "source": [
    "#### Demonstration of stemming and lemmatization"
   ]
  },
  {
   "cell_type": "code",
   "execution_count": null,
   "id": "85c8fb48-50a2-4354-b766-c27b03320fef",
   "metadata": {},
   "outputs": [],
   "source": [
    "# Stemming:\n",
    "\n",
    "# Stemming reduces words to their root or stem form by removing prefixes or suffixes.\n",
    "# It's a more simplistic approach compared to lemmatization and may not always produce valid words.\n",
    "\n",
    "# Example:\n",
    "\n",
    "# Original: \"running\", \"runs\", \"runner\"\n",
    "# Stemmed: \"run\""
   ]
  },
  {
   "cell_type": "code",
   "execution_count": 8,
   "id": "488888cf-1d23-4495-b8ae-2fec374c389a",
   "metadata": {},
   "outputs": [
    {
     "name": "stderr",
     "output_type": "stream",
     "text": [
      "[nltk_data] Downloading package wordnet to\n",
      "[nltk_data]     C:\\Users\\User\\AppData\\Roaming\\nltk_data...\n"
     ]
    },
    {
     "data": {
      "text/plain": [
       "True"
      ]
     },
     "execution_count": 8,
     "metadata": {},
     "output_type": "execute_result"
    }
   ],
   "source": [
    "import nltk\n",
    "nltk.download('wordnet')"
   ]
  },
  {
   "cell_type": "code",
   "execution_count": 1,
   "id": "aa5b03c4-96c3-41c3-8147-0378f896430e",
   "metadata": {},
   "outputs": [],
   "source": [
    "# Sample text for demonstration\n",
    "text = \"He walked into the room, and then he walks out. He is walking every day.\"\n"
   ]
  },
  {
   "cell_type": "code",
   "execution_count": 6,
   "id": "478cbf2b-4991-4295-baa1-b8746c5e86f3",
   "metadata": {},
   "outputs": [],
   "source": [
    "from nltk.stem import PorterStemmer, WordNetLemmatizer\n",
    "from nltk.tokenize import word_tokenize\n"
   ]
  },
  {
   "cell_type": "code",
   "execution_count": 3,
   "id": "19942a09-bec6-4bac-9a5c-4725fda2ad9a",
   "metadata": {},
   "outputs": [],
   "source": [
    "# Tokenizing the text into words\n",
    "tokens = word_tokenize(text)\n"
   ]
  },
  {
   "cell_type": "code",
   "execution_count": 10,
   "id": "edd98223-b2fc-477e-91c1-a4efc1c2da41",
   "metadata": {},
   "outputs": [
    {
     "name": "stdout",
     "output_type": "stream",
     "text": [
      "Stemmed words: ['he', 'walk', 'into', 'the', 'room', ',', 'and', 'then', 'he', 'walk', 'out', '.', 'he', 'is', 'walk', 'everi', 'day', '.']\n"
     ]
    }
   ],
   "source": [
    "# Stemming\n",
    "porter = PorterStemmer()\n",
    "stemmed_words = [porter.stem(word) for word in tokens]\n",
    "print(\"Stemmed words:\", stemmed_words)\n"
   ]
  },
  {
   "cell_type": "code",
   "execution_count": null,
   "id": "08a535d3-2ac5-447f-aeb0-04ae19877f07",
   "metadata": {},
   "outputs": [],
   "source": [
    "# Lemmatization:\n",
    "\n",
    "# Lemmatization, on the other hand, aims to reduce words to their base or dictionary form (lemma), \n",
    "# considering the context of the word. It usually requires part-of-speech tagging for accurate results and generally yields valid words.\n",
    "\n",
    "# Example:\n",
    "\n",
    "# Original: \"running\", \"runs\", \"runner\"\n",
    "# Lemmatized: \"run\""
   ]
  },
  {
   "cell_type": "code",
   "execution_count": 15,
   "id": "6dfd146a-f526-4edd-83f9-d7a2513069a1",
   "metadata": {},
   "outputs": [
    {
     "name": "stdout",
     "output_type": "stream",
     "text": [
      "Lemmatized words: ['He', 'walked', 'into', 'the', 'room', ',', 'and', 'then', 'he', 'walk', 'out', '.', 'He', 'is', 'walking', 'every', 'day', '.']\n"
     ]
    }
   ],
   "source": [
    "# Lemmatization\n",
    "lemmatizer = WordNetLemmatizer()\n",
    "lemmatized_words = [lemmatizer.lemmatize(word) for word in tokens]\n",
    "print(\"Lemmatized words:\", lemmatized_words)\n"
   ]
  },
  {
   "cell_type": "code",
   "execution_count": null,
   "id": "35d7987d-d420-4429-be3c-be73e1d08f21",
   "metadata": {},
   "outputs": [],
   "source": []
  }
 ],
 "metadata": {
  "kernelspec": {
   "display_name": "Python 3 (ipykernel)",
   "language": "python",
   "name": "python3"
  },
  "language_info": {
   "codemirror_mode": {
    "name": "ipython",
    "version": 3
   },
   "file_extension": ".py",
   "mimetype": "text/x-python",
   "name": "python",
   "nbconvert_exporter": "python",
   "pygments_lexer": "ipython3",
   "version": "3.11.4"
  }
 },
 "nbformat": 4,
 "nbformat_minor": 5
}
