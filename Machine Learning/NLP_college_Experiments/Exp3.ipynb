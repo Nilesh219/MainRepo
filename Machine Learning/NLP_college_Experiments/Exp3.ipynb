{
 "cells": [
  {
   "cell_type": "markdown",
   "id": "1a4b0fa1-71f4-47d3-ad98-c3e65c8dfc52",
   "metadata": {},
   "source": [
    "# Demonstrate the tokenization and stopword removal"
   ]
  },
  {
   "cell_type": "markdown",
   "id": "09b7fba0-7021-4a0e-9359-705320892736",
   "metadata": {},
   "source": [
    "### Experiment 3"
   ]
  },
  {
   "cell_type": "code",
   "execution_count": null,
   "id": "a9a587e4-300d-43f4-9b88-99b376d38447",
   "metadata": {},
   "outputs": [],
   "source": [
    "# Stopword removal\n",
    "\n",
    "# Stopword removal is a text preprocessing technique used in natural language processing (NLP) to \n",
    "# filter out common words that carry little to no meaningful information from a text corpus. These words, known as stopwords\n",
    "\n",
    "# Examples of stopwords in English include \"the\", \"is\", \"and\", \"of\", \"in\", \"a\", \"to\", etc."
   ]
  },
  {
   "cell_type": "code",
   "execution_count": 1,
   "id": "b41f5ef4-2e80-4907-a632-86eb4fb6c363",
   "metadata": {},
   "outputs": [
    {
     "name": "stderr",
     "output_type": "stream",
     "text": [
      "[nltk_data] Downloading package stopwords to\n",
      "[nltk_data]     C:\\Users\\User\\AppData\\Roaming\\nltk_data...\n",
      "[nltk_data]   Unzipping corpora\\stopwords.zip.\n"
     ]
    },
    {
     "data": {
      "text/plain": [
       "True"
      ]
     },
     "execution_count": 1,
     "metadata": {},
     "output_type": "execute_result"
    }
   ],
   "source": [
    "import nltk\n",
    "nltk.download('stopwords')"
   ]
  },
  {
   "cell_type": "code",
   "execution_count": 5,
   "id": "73c55d41-9f03-41e6-9911-fe6ab5314caf",
   "metadata": {},
   "outputs": [],
   "source": [
    "from nltk.tokenize import word_tokenize\n",
    "from nltk.corpus import stopwords"
   ]
  },
  {
   "cell_type": "code",
   "execution_count": 7,
   "id": "923bc769-84fd-493d-bc3f-2daee0b1a8be",
   "metadata": {},
   "outputs": [],
   "source": [
    "# Sample text for demonstration\n",
    "text = \"NLTK is a leading platform for building Python programs to work with human language data. It provides easy-to-use interfaces to over 50 corpora and lexical resources such as WordNet, along with a suite of text processing libraries for classification, tokenization, stemming, tagging, parsing, and semantic reasoning, wrappers for industrial-strength NLP libraries, and an active discussion forum.\"\n"
   ]
  },
  {
   "cell_type": "code",
   "execution_count": 8,
   "id": "55d5e4e4-7518-44a2-91a1-e8579af912bb",
   "metadata": {},
   "outputs": [
    {
     "name": "stdout",
     "output_type": "stream",
     "text": [
      "Tokenize word:  ['nltk', 'is', 'a', 'leading', 'platform', 'for', 'building', 'python', 'programs', 'to', 'work', 'with', 'human', 'language', 'data', '.', 'it', 'provides', 'easy-to-use', 'interfaces', 'to', 'over', '50', 'corpora', 'and', 'lexical', 'resources', 'such', 'as', 'wordnet', ',', 'along', 'with', 'a', 'suite', 'of', 'text', 'processing', 'libraries', 'for', 'classification', ',', 'tokenization', ',', 'stemming', ',', 'tagging', ',', 'parsing', ',', 'and', 'semantic', 'reasoning', ',', 'wrappers', 'for', 'industrial-strength', 'nlp', 'libraries', ',', 'and', 'an', 'active', 'discussion', 'forum', '.']\n"
     ]
    }
   ],
   "source": [
    "# Tokenizing the text into words\n",
    "tokens = word_tokenize(text.lower())\n",
    "print(\"Tokenize word: \", tokens)"
   ]
  },
  {
   "cell_type": "code",
   "execution_count": 9,
   "id": "1777e963-c505-4c8f-aa26-fbfa88730496",
   "metadata": {},
   "outputs": [
    {
     "name": "stdout",
     "output_type": "stream",
     "text": [
      "Tokens after stop words removal:  ['nltk', 'leading', 'platform', 'building', 'python', 'programs', 'work', 'human', 'language', 'data', '.', 'provides', 'easy-to-use', 'interfaces', '50', 'corpora', 'lexical', 'resources', 'wordnet', ',', 'along', 'suite', 'text', 'processing', 'libraries', 'classification', ',', 'tokenization', ',', 'stemming', ',', 'tagging', ',', 'parsing', ',', 'semantic', 'reasoning', ',', 'wrappers', 'industrial-strength', 'nlp', 'libraries', ',', 'active', 'discussion', 'forum', '.']\n"
     ]
    }
   ],
   "source": [
    "# Removing stop words\n",
    "stop_words = set(stopwords.words('english'))\n",
    "flitered_tokens = [word for word in tokens if word not in stop_words]\n",
    "print(\"Tokens after stop words removal: \",flitered_tokens)"
   ]
  },
  {
   "cell_type": "code",
   "execution_count": null,
   "id": "7b78bd35-3118-450a-a49c-1c891b391b37",
   "metadata": {},
   "outputs": [],
   "source": []
  }
 ],
 "metadata": {
  "kernelspec": {
   "display_name": "Python 3 (ipykernel)",
   "language": "python",
   "name": "python3"
  },
  "language_info": {
   "codemirror_mode": {
    "name": "ipython",
    "version": 3
   },
   "file_extension": ".py",
   "mimetype": "text/x-python",
   "name": "python",
   "nbconvert_exporter": "python",
   "pygments_lexer": "ipython3",
   "version": "3.11.4"
  }
 },
 "nbformat": 4,
 "nbformat_minor": 5
}
