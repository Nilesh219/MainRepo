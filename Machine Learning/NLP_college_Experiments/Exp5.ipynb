{
 "cells": [
  {
   "cell_type": "markdown",
   "id": "03139ea1-b1a1-4361-94f9-11c3d5ce670f",
   "metadata": {},
   "source": [
    "# Implement Ngram model to predict the next word in the sentence"
   ]
  },
  {
   "cell_type": "markdown",
   "id": "47b19336-67b3-4eff-9588-e9b8f2976468",
   "metadata": {},
   "source": [
    "### Experiment 5"
   ]
  },
  {
   "cell_type": "code",
   "execution_count": 41,
   "id": "256288a5-5c43-4180-b9f0-2131e9874dda",
   "metadata": {},
   "outputs": [
    {
     "name": "stdout",
     "output_type": "stream",
     "text": [
      "Next word predicted by bigram model: with\n",
      "Next word predicted by trigram model: Context not found in trigram model\n"
     ]
    }
   ],
   "source": [
    "import nltk\n",
    "from nltk import bigrams, trigrams\n",
    "from nltk.tokenize import word_tokenize\n",
    "from collections import defaultdict\n"
   ]
  },
  {
   "cell_type": "code",
   "execution_count": 42,
   "id": "33ec8972-0ab0-4af1-85e7-bbae3c1bd0db",
   "metadata": {},
   "outputs": [],
   "source": [
    "# Sample text\n",
    "text = \"I love coding with Python and machine learning.\""
   ]
  },
  {
   "cell_type": "code",
   "execution_count": 43,
   "id": "3581cf55-40e6-42f2-a3fc-a3b7e325691b",
   "metadata": {},
   "outputs": [],
   "source": [
    "# Tokenize the text\n",
    "tokens = nltk.word_tokenize(text)"
   ]
  },
  {
   "cell_type": "code",
   "execution_count": 44,
   "id": "c2140d19-60b3-4503-b332-51a2b39c1376",
   "metadata": {},
   "outputs": [],
   "source": [
    "# Create bigrams and trigrams\n",
    "bigram_model = defaultdict(lambda: defaultdict(lambda: 0))\n",
    "trigram_model = defaultdict(lambda: defaultdict(lambda: 0))"
   ]
  },
  {
   "cell_type": "code",
   "execution_count": 45,
   "id": "fe79ddff-4ec7-4215-8850-13aa3d370c3d",
   "metadata": {},
   "outputs": [],
   "source": [
    "for w1, w2, w3 in trigrams(tokens, pad_right=True, pad_left=True):\n",
    "    bigram_model[(w1, w2)][w3] += 1\n",
    "    trigram_model[(w1, w2)][w3] += 1\n"
   ]
  },
  {
   "cell_type": "code",
   "execution_count": 46,
   "id": "151061b7-8693-41ed-a99c-41b26d46c65c",
   "metadata": {},
   "outputs": [],
   "source": [
    "# Function to predict the next word based on the N-gram model\n",
    "def predict_next_word(model, context):\n",
    "    context = tuple(context)\n",
    "    next_word_candidates = model.get(context, {})\n",
    "    if next_word_candidates:\n",
    "        predicted_word = max(next_word_candidates, key=next_word_candidates.get)\n",
    "        return predicted_word\n",
    "    else:\n",
    "        return None"
   ]
  },
  {
   "cell_type": "code",
   "execution_count": 47,
   "id": "4a238c03-7264-4a7a-824f-c38e83ab2124",
   "metadata": {},
   "outputs": [
    {
     "name": "stdout",
     "output_type": "stream",
     "text": [
      "Next word predicted by bigram model: with\n"
     ]
    }
   ],
   "source": [
    "# Test the model by predicting the next word\n",
    "context = [\"love\", \"coding\"]\n",
    "predicted_word = predict_next_word(bigram_model, context)\n",
    "print(\"Next word predicted by bigram model:\", predicted_word)"
   ]
  },
  {
   "cell_type": "code",
   "execution_count": 49,
   "id": "8af57597-f64c-4f84-b0c2-28879e9e191f",
   "metadata": {},
   "outputs": [
    {
     "name": "stdout",
     "output_type": "stream",
     "text": [
      "Next word predicted by trigram model: Context not found in trigram model\n"
     ]
    }
   ],
   "source": [
    "context = [\"love\", \"coding\", \"with\"]\n",
    "predicted_word = predict_next_word(trigram_model, context)\n",
    "print(\"Next word predicted by trigram model:\", predicted_word if predicted_word is not None else \"Context not found in trigram model\")\n",
    "\n",
    "# give me large sample to train"
   ]
  },
  {
   "cell_type": "code",
   "execution_count": null,
   "id": "3f48e6c0-2c67-43da-b6a6-0c9be95b9e64",
   "metadata": {},
   "outputs": [],
   "source": []
  }
 ],
 "metadata": {
  "kernelspec": {
   "display_name": "Python 3 (ipykernel)",
   "language": "python",
   "name": "python3"
  },
  "language_info": {
   "codemirror_mode": {
    "name": "ipython",
    "version": 3
   },
   "file_extension": ".py",
   "mimetype": "text/x-python",
   "name": "python",
   "nbconvert_exporter": "python",
   "pygments_lexer": "ipython3",
   "version": "3.11.4"
  }
 },
 "nbformat": 4,
 "nbformat_minor": 5
}
