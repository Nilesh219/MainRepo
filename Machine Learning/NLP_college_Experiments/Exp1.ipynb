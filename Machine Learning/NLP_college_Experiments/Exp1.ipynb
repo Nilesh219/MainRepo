{
 "cells": [
  {
   "cell_type": "markdown",
   "id": "26baa9a2-6222-4dff-a0ca-c754ec69e66d",
   "metadata": {},
   "source": [
    "# NLTK and Regular Expressions in NLP"
   ]
  },
  {
   "cell_type": "markdown",
   "id": "f85dd005-3bd3-49a8-bc0a-d44dbd85ee27",
   "metadata": {},
   "source": [
    "### Experiment 1"
   ]
  },
  {
   "cell_type": "markdown",
   "id": "70c2695a-3e98-469d-93fa-d84b86aa1783",
   "metadata": {},
   "source": [
    "#Natural Language Toolkit (NLTK) is a comprehensive library for working with human language data using Python."
   ]
  },
  {
   "cell_type": "markdown",
   "id": "c795dc65-5cb9-4ff5-8adb-7b677b5619b4",
   "metadata": {},
   "source": [
    "#a suite of text processing libraries for classification, tokenization, stemming, tagging, parsing, and more."
   ]
  },
  {
   "cell_type": "code",
   "execution_count": 1,
   "id": "1a9c14d9-1bab-441b-b287-6aabc00e8bef",
   "metadata": {},
   "outputs": [
    {
     "name": "stdout",
     "output_type": "stream",
     "text": [
      "Collecting nltk\n",
      "  Downloading nltk-3.8.1-py3-none-any.whl.metadata (2.8 kB)\n",
      "Requirement already satisfied: click in c:\\users\\user\\appdata\\local\\programs\\python\\python311\\lib\\site-packages (from nltk) (8.1.7)\n",
      "Requirement already satisfied: joblib in c:\\users\\user\\appdata\\local\\programs\\python\\python311\\lib\\site-packages (from nltk) (1.3.2)\n",
      "Collecting regex>=2021.8.3 (from nltk)\n",
      "  Downloading regex-2024.4.28-cp311-cp311-win_amd64.whl.metadata (41 kB)\n",
      "     ---------------------------------------- 0.0/41.9 kB ? eta -:--:--\n",
      "     ---------------------------------------  41.0/41.9 kB 2.0 MB/s eta 0:00:01\n",
      "     -------------------------------------- 41.9/41.9 kB 688.7 kB/s eta 0:00:00\n",
      "Requirement already satisfied: tqdm in c:\\users\\user\\appdata\\local\\programs\\python\\python311\\lib\\site-packages (from nltk) (4.66.2)\n",
      "Requirement already satisfied: colorama in c:\\users\\user\\appdata\\local\\programs\\python\\python311\\lib\\site-packages (from click->nltk) (0.4.6)\n",
      "Downloading nltk-3.8.1-py3-none-any.whl (1.5 MB)\n",
      "   ---------------------------------------- 0.0/1.5 MB ? eta -:--:--\n",
      "   - -------------------------------------- 0.1/1.5 MB 1.7 MB/s eta 0:00:01\n",
      "   -- ------------------------------------- 0.1/1.5 MB 1.6 MB/s eta 0:00:01\n",
      "   ---- ----------------------------------- 0.2/1.5 MB 1.4 MB/s eta 0:00:01\n",
      "   ------ --------------------------------- 0.2/1.5 MB 1.5 MB/s eta 0:00:01\n",
      "   -------- ------------------------------- 0.3/1.5 MB 1.6 MB/s eta 0:00:01\n",
      "   ---------- ----------------------------- 0.4/1.5 MB 1.7 MB/s eta 0:00:01\n",
      "   ------------ --------------------------- 0.5/1.5 MB 1.6 MB/s eta 0:00:01\n",
      "   -------------- ------------------------- 0.6/1.5 MB 1.7 MB/s eta 0:00:01\n",
      "   -------------- ------------------------- 0.6/1.5 MB 1.7 MB/s eta 0:00:01\n",
      "   ----------------- ---------------------- 0.7/1.5 MB 1.6 MB/s eta 0:00:01\n",
      "   ------------------ --------------------- 0.7/1.5 MB 1.6 MB/s eta 0:00:01\n",
      "   -------------------- ------------------- 0.8/1.5 MB 1.5 MB/s eta 0:00:01\n",
      "   ---------------------- ----------------- 0.8/1.5 MB 1.5 MB/s eta 0:00:01\n",
      "   ------------------------- -------------- 1.0/1.5 MB 1.6 MB/s eta 0:00:01\n",
      "   ---------------------------- ----------- 1.1/1.5 MB 1.6 MB/s eta 0:00:01\n",
      "   ------------------------------- -------- 1.2/1.5 MB 1.7 MB/s eta 0:00:01\n",
      "   ---------------------------------- ----- 1.3/1.5 MB 1.7 MB/s eta 0:00:01\n",
      "   ------------------------------------ --- 1.4/1.5 MB 1.7 MB/s eta 0:00:01\n",
      "   ---------------------------------------  1.5/1.5 MB 1.8 MB/s eta 0:00:01\n",
      "   ---------------------------------------- 1.5/1.5 MB 1.7 MB/s eta 0:00:00\n",
      "Downloading regex-2024.4.28-cp311-cp311-win_amd64.whl (268 kB)\n",
      "   ---------------------------------------- 0.0/269.0 kB ? eta -:--:--\n",
      "   ---------- ----------------------------- 71.7/269.0 kB 3.8 MB/s eta 0:00:01\n",
      "   ---------------------------- ----------- 194.6/269.0 kB 2.4 MB/s eta 0:00:01\n",
      "   ---------------------------------------  266.2/269.0 kB 2.0 MB/s eta 0:00:01\n",
      "   ---------------------------------------- 269.0/269.0 kB 1.8 MB/s eta 0:00:00\n",
      "Installing collected packages: regex, nltk\n",
      "Successfully installed nltk-3.8.1 regex-2024.4.28\n"
     ]
    }
   ],
   "source": [
    "# !pip install nltk"
   ]
  },
  {
   "cell_type": "code",
   "execution_count": 7,
   "id": "8ae4097d-9aad-44c0-bf1c-22148d23e14f",
   "metadata": {},
   "outputs": [
    {
     "name": "stderr",
     "output_type": "stream",
     "text": [
      "[nltk_data] Downloading package punkt to\n",
      "[nltk_data]     C:\\Users\\User\\AppData\\Roaming\\nltk_data...\n",
      "[nltk_data]   Unzipping tokenizers\\punkt.zip.\n"
     ]
    },
    {
     "data": {
      "text/plain": [
       "True"
      ]
     },
     "execution_count": 7,
     "metadata": {},
     "output_type": "execute_result"
    }
   ],
   "source": [
    "import nltk\n",
    "nltk.download('punkt')"
   ]
  },
  {
   "cell_type": "code",
   "execution_count": 13,
   "id": "1ea3cafd-9645-4c16-9854-1b19ee741f17",
   "metadata": {},
   "outputs": [],
   "source": [
    "# Sample text \n",
    "text = \"Hello how are you 123\""
   ]
  },
  {
   "cell_type": "code",
   "execution_count": 14,
   "id": "8d7b31c7-7692-415a-930c-874d4a1a8870",
   "metadata": {},
   "outputs": [
    {
     "name": "stdout",
     "output_type": "stream",
     "text": [
      "Tokenized words: ['Hello', 'how', 'are', 'you', '123']\n"
     ]
    }
   ],
   "source": [
    "from nltk.tokenize import word_tokenize\n",
    "\n",
    "# Tokenizing the text into words\n",
    "tokens = word_tokenize(text)\n",
    "print(\"Tokenized words:\", tokens)\n"
   ]
  },
  {
   "cell_type": "code",
   "execution_count": 21,
   "id": "44616606-7b0b-4895-a18b-94442d66503f",
   "metadata": {},
   "outputs": [],
   "source": [
    "import re\n",
    "# Regular expression pattern to match only alphabetic words\n",
    "pattern = re.compile(r'\\b[a-zA-Z0-9]+\\b')\n",
    "# \\b: This is a word boundary anchor. It matches the position between a word character (like letters, digits, or underscore) \n",
    "# and a non-word character (like space, punctuation, or the start/end of a string)."
   ]
  },
  {
   "cell_type": "code",
   "execution_count": 22,
   "id": "f6692df5-9474-48d4-9093-70901190f75a",
   "metadata": {},
   "outputs": [
    {
     "name": "stdout",
     "output_type": "stream",
     "text": [
      "Alphabetic words: ['Hello', 'how', 'are', 'you', '123']\n"
     ]
    }
   ],
   "source": [
    "# Filtering non-alphabetic words using regular expression\n",
    "alphabetic_words = [word for word in tokens if re.match(pattern, word)]\n",
    "print(\"Alphabetic words:\", alphabetic_words)\n"
   ]
  },
  {
   "cell_type": "code",
   "execution_count": null,
   "id": "1c3742c5-326c-42ba-869e-82232fd3cc09",
   "metadata": {},
   "outputs": [],
   "source": []
  }
 ],
 "metadata": {
  "kernelspec": {
   "display_name": "Python 3 (ipykernel)",
   "language": "python",
   "name": "python3"
  },
  "language_info": {
   "codemirror_mode": {
    "name": "ipython",
    "version": 3
   },
   "file_extension": ".py",
   "mimetype": "text/x-python",
   "name": "python",
   "nbconvert_exporter": "python",
   "pygments_lexer": "ipython3",
   "version": "3.11.4"
  }
 },
 "nbformat": 4,
 "nbformat_minor": 5
}
